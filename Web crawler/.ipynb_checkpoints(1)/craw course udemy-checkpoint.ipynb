{
 "cells": [
  {
   "cell_type": "code",
   "execution_count": 2,
   "id": "occupied-attachment",
   "metadata": {},
   "outputs": [],
   "source": [
    "# imports here\n",
    "from selenium import webdriver\n",
    "from selenium.webdriver.common.keys import Keys\n",
    "from selenium.webdriver.support import expected_conditions as EC\n",
    "from selenium.webdriver.common.by import By\n",
    "from selenium.webdriver.support.wait import WebDriverWait\n",
    "import time\n",
    "\n",
    "from selenium.webdriver.chrome.options import Options\n",
    "\n",
    "chrome_options = Options()\n",
    "chrome_options.add_argument(\"--user-data-dir=C:\\\\Users\\\\Nguyen Huy\\\\AppData\\\\Local\\\\Google\\\\Chrome\\\\User Data\")"
   ]
  },
  {
   "cell_type": "code",
   "execution_count": 3,
   "id": "adopted-scientist",
   "metadata": {},
   "outputs": [],
   "source": [
    "# specify the path chromedriver.exe\n",
    "driver = webdriver.Chrome('D:/OneDrive - cloudor/Documents/Dev/chrome driver/chromedriver.exe',options=chrome_options)"
   ]
  },
  {
   "cell_type": "markdown",
   "id": "limiting-romantic",
   "metadata": {},
   "source": [
    "# open webpage\n",
    "driver.get('https://www.udemy.com/join/login-popup/')\n",
    "xpathUsername = '//*[@id=\"email--1\"]'\n",
    "username = WebDriverWait(driver, 10).until(EC.element_to_be_clickable((By.XPATH, xpathUsername)))\n",
    "xpathPassword = '//*[@id=\"id_password\"]'\n",
    "password = WebDriverWait(driver, 10).until(EC.element_to_be_clickable((By.XPATH, xpathPassword)))\n",
    "user = 'hyquaq@gmail.com'\n",
    "username.send_keys(user)\n",
    "pasw = 'Udemyhy1415'\n",
    "password.send_keys(pasw)\n",
    "xpathLogin = '//*[@id=\"submit-id-submit\"]'\n",
    "login = WebDriverWait(driver, 10).until(EC.element_to_be_clickable((By.XPATH, xpathLogin)))\n",
    "time.sleep(2)\n",
    "login.click()"
   ]
  },
  {
   "cell_type": "code",
   "execution_count": 4,
   "id": "happy-butter",
   "metadata": {},
   "outputs": [],
   "source": [
    "# open web course\n",
    "# https://www.tutorialbar.com/category/development/\n",
    "# https://www.tutorialbar.com/category/development/page/2\n",
    "# https://www.tutorialbar.com/category/development/page/3\n",
    "# https://www.tutorialbar.com/category/office-productivity/\n",
    "# https://www.tutorialbar.com/category/personal-development/\n",
    "url = 'https://www.tutorialbar.com/category/development/page/1'\n",
    "driver.get(url)"
   ]
  },
  {
   "cell_type": "code",
   "execution_count": 5,
   "id": "supreme-speaking",
   "metadata": {},
   "outputs": [],
   "source": [
    "anchors = []\n",
    "driver.execute_script(\"window.scrollTo(0, document.body.scrollHeight);\")\n",
    "anchors = driver.find_elements_by_tag_name('a')\n",
    "anchors = [a.get_attribute('href') for a in anchors]\n",
    "anchors = set(anchors)\n",
    "\n",
    "link = []\n",
    "for a in anchors:\n",
    "    if not 'category' in a and a.startswith('https://www.tutorialbar.com/') and not 'all-courses' in a and not 'contact' in a and len(a) > len('https://www.tutorialbar.com/ '):\n",
    "        if not 'store' in a:\n",
    "            if not 'privacy-policy' in a:\n",
    "                if not 'disclaimer' in a:\n",
    "                    if not 'course-categories' in a:\n",
    "                        link.append(a)\n",
    "time.sleep(2)"
   ]
  },
  {
   "cell_type": "code",
   "execution_count": 6,
   "id": "promising-baseline",
   "metadata": {},
   "outputs": [],
   "source": [
    "anchors = link"
   ]
  },
  {
   "cell_type": "code",
   "execution_count": 7,
   "id": "listed-salvation",
   "metadata": {},
   "outputs": [
    {
     "name": "stdout",
     "output_type": "stream",
     "text": [
      "https://www.udemy.com/course/the-complete-html-5-course-from-scratch/?couponCode=TRY10FREE22108\n",
      "https://www.udemy.com/course/learn-how-css-positioning-works-a/?couponCode=C0A984EDFE71BBA47D88\n",
      "https://www.udemy.com/course/the-learn-javascript-course/?couponCode=TRY10FREE22108\n",
      "https://www.udemy.com/course/learn-advanced-svg/?couponCode=TRY10FREE22108\n",
      "https://www.udemy.com/course/how-to-build-a-facebook-messenger-chat-bot-from-scratch/?couponCode=B8C7797EF646B29AC830\n",
      "https://www.udemy.com/course/ajax-for-beginners-a-very-basic-introduction/?couponCode=5A6E5C130ED5BEC44D24\n",
      "https://www.udemy.com/course/json-for-beginners-a-very-basic-introduction/?couponCode=A85A030B0F859F77014B\n",
      "https://www.udemy.com/course/the-learn-jquery-course/?couponCode=TRY10FREE22108\n",
      "https://www.udemy.com/course/css-made-simple-for-beginners-learn-to-style-a-website-page/?couponCode=B7C5729A3B90EAC3E91B\n",
      "https://bit.ly/3stfJcp\n",
      "https://www.udemy.com/course/the-complete-css-course/?couponCode=TRY10FREE22108\n",
      "https://www.udemy.com/course/nodejs-getting-started/?couponCode=E627F87B0EC012119F48\n",
      "done\n"
     ]
    }
   ],
   "source": [
    "links = []\n",
    "i = 0\n",
    "for a in anchors:\n",
    "    driver.get(a)\n",
    "    time.sleep(1)\n",
    "    try:\n",
    "        buttonEnroll = driver.find_element_by_link_text('ENROLL NOW')\n",
    "        buttonEnroll = WebDriverWait(driver, 10).until(EC.element_to_be_clickable((By.LINK_TEXT, 'ENROLL NOW')))\n",
    "        print(buttonEnroll.get_attribute('href'))\n",
    "        links.append(buttonEnroll.get_attribute('href'))\n",
    "    except:\n",
    "        continue\n",
    "print('done')"
   ]
  },
  {
   "cell_type": "code",
   "execution_count": 8,
   "id": "congressional-albert",
   "metadata": {},
   "outputs": [
    {
     "data": {
      "text/plain": [
       "['https://www.udemy.com/course/the-complete-html-5-course-from-scratch/?couponCode=TRY10FREE22108',\n",
       " 'https://www.udemy.com/course/learn-how-css-positioning-works-a/?couponCode=C0A984EDFE71BBA47D88',\n",
       " 'https://www.udemy.com/course/the-learn-javascript-course/?couponCode=TRY10FREE22108',\n",
       " 'https://www.udemy.com/course/learn-advanced-svg/?couponCode=TRY10FREE22108',\n",
       " 'https://www.udemy.com/course/how-to-build-a-facebook-messenger-chat-bot-from-scratch/?couponCode=B8C7797EF646B29AC830',\n",
       " 'https://www.udemy.com/course/ajax-for-beginners-a-very-basic-introduction/?couponCode=5A6E5C130ED5BEC44D24',\n",
       " 'https://www.udemy.com/course/json-for-beginners-a-very-basic-introduction/?couponCode=A85A030B0F859F77014B',\n",
       " 'https://www.udemy.com/course/the-learn-jquery-course/?couponCode=TRY10FREE22108',\n",
       " 'https://www.udemy.com/course/css-made-simple-for-beginners-learn-to-style-a-website-page/?couponCode=B7C5729A3B90EAC3E91B',\n",
       " 'https://bit.ly/3stfJcp',\n",
       " 'https://www.udemy.com/course/the-complete-css-course/?couponCode=TRY10FREE22108',\n",
       " 'https://www.udemy.com/course/nodejs-getting-started/?couponCode=E627F87B0EC012119F48']"
      ]
     },
     "execution_count": 8,
     "metadata": {},
     "output_type": "execute_result"
    }
   ],
   "source": [
    "links"
   ]
  },
  {
   "cell_type": "code",
   "execution_count": null,
   "id": "necessary-portugal",
   "metadata": {},
   "outputs": [],
   "source": []
  }
 ],
 "metadata": {
  "kernelspec": {
   "display_name": "Python 3",
   "language": "python",
   "name": "python3"
  },
  "language_info": {
   "codemirror_mode": {
    "name": "ipython",
    "version": 3
   },
   "file_extension": ".py",
   "mimetype": "text/x-python",
   "name": "python",
   "nbconvert_exporter": "python",
   "pygments_lexer": "ipython3",
   "version": "3.9.1"
  }
 },
 "nbformat": 4,
 "nbformat_minor": 5
}
