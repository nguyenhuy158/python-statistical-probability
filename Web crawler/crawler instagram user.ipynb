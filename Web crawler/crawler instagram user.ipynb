{
 "cells": [
  {
   "cell_type": "code",
   "execution_count": 145,
   "id": "infrared-weight",
   "metadata": {},
   "outputs": [],
   "source": [
    "# imports here\n",
    "from selenium import webdriver\n",
    "from selenium.webdriver.common.keys import Keys\n",
    "from selenium.webdriver.support import expected_conditions as EC\n",
    "from selenium.webdriver.common.by import By\n",
    "from selenium.webdriver.support.wait import WebDriverWait\n",
    "import time"
   ]
  },
  {
   "cell_type": "code",
   "execution_count": 146,
   "id": "appropriate-rebound",
   "metadata": {},
   "outputs": [],
   "source": [
    "# specify the path chromedriver.exe\n",
    "driver = webdriver.Chrome('D:/OneDrive - cloudor/Documents/Dev/chrome driver/chromedriver.exe')"
   ]
  },
  {
   "cell_type": "code",
   "execution_count": 147,
   "id": "continuous-serum",
   "metadata": {},
   "outputs": [],
   "source": [
    "# open webpage\n",
    "driver.get('http://www.instagram.com')"
   ]
  },
  {
   "cell_type": "code",
   "execution_count": 148,
   "id": "herbal-condition",
   "metadata": {},
   "outputs": [],
   "source": [
    "xpathUsername = '//*[@id=\"loginForm\"]/div/div[1]/div/label/input'\n",
    "username = WebDriverWait(driver, 10).until(EC.element_to_be_clickable((By.XPATH, xpathUsername)))\n",
    "xpathPassword = '//*[@id=\"loginForm\"]/div/div[2]/div/label/input'\n",
    "password = WebDriverWait(driver, 10).until(EC.element_to_be_clickable((By.XPATH, xpathPassword)))"
   ]
  },
  {
   "cell_type": "code",
   "execution_count": 149,
   "id": "korean-holly",
   "metadata": {},
   "outputs": [],
   "source": [
    "user = 'nguyenhuy0815'\n",
    "username.send_keys(user)\n",
    "pasw = 'Instagramhy1415'\n",
    "password.send_keys(pasw)"
   ]
  },
  {
   "cell_type": "code",
   "execution_count": 150,
   "id": "early-surprise",
   "metadata": {},
   "outputs": [],
   "source": [
    "xpathLogin = '//*[@id=\"loginForm\"]/div/div[3]/button'\n",
    "login = WebDriverWait(driver, 10).until(EC.element_to_be_clickable((By.XPATH, xpathLogin)))"
   ]
  },
  {
   "cell_type": "code",
   "execution_count": 151,
   "id": "thick-offering",
   "metadata": {},
   "outputs": [],
   "source": [
    "login.click()"
   ]
  },
  {
   "cell_type": "markdown",
   "id": "searching-astronomy",
   "metadata": {},
   "source": [
    "Handle Alerts\n",
    "/html/body/div[4]/div/div/div/div[3]/button[2]"
   ]
  },
  {
   "cell_type": "code",
   "execution_count": 152,
   "id": "processed-phenomenon",
   "metadata": {},
   "outputs": [],
   "source": [
    "xpathNotnow = '/html/body/div[4]/div/div/div/div[3]/button[2]'\n",
    "notNow = WebDriverWait(driver, 10).until(EC.element_to_be_clickable((By.XPATH, xpathNotnow)))"
   ]
  },
  {
   "cell_type": "code",
   "execution_count": 153,
   "id": "statutory-offer",
   "metadata": {},
   "outputs": [],
   "source": [
    "notNow.click()"
   ]
  },
  {
   "cell_type": "markdown",
   "id": "descending-dance",
   "metadata": {},
   "source": []
  },
  {
   "cell_type": "code",
   "execution_count": 154,
   "id": "everyday-cooler",
   "metadata": {},
   "outputs": [],
   "source": [
    "xpathSearchbox = '//*[@id=\"react-root\"]/section/nav/div[2]/div/div/div[2]/input'\n",
    "searchBox = WebDriverWait(driver, 10).until(EC.element_to_be_clickable((By.XPATH, xpathSearchbox)))"
   ]
  },
  {
   "cell_type": "code",
   "execution_count": 155,
   "id": "secure-indie",
   "metadata": {},
   "outputs": [],
   "source": [
    "keyword = 'nchinnn_20'\n",
    "searchBox.clear()\n",
    "searchBox.send_keys(keyword)"
   ]
  },
  {
   "cell_type": "code",
   "execution_count": 156,
   "id": "curious-light",
   "metadata": {},
   "outputs": [],
   "source": [
    "xpathSearch1 = '//*[@id=\"react-root\"]/section/nav/div[2]/div/div/div[2]/div[3]/div/div[2]/div/div[1]/a'\n",
    "searchBox1 = WebDriverWait(driver, 10).until(EC.element_to_be_clickable((By.XPATH, xpathSearch1)))"
   ]
  },
  {
   "cell_type": "code",
   "execution_count": 157,
   "id": "assumed-summary",
   "metadata": {},
   "outputs": [],
   "source": [
    "searchBox1.click()"
   ]
  },
  {
   "cell_type": "code",
   "execution_count": 159,
   "id": "intensive-appraisal",
   "metadata": {},
   "outputs": [],
   "source": [
    "anchors = []\n",
    "lenAnchors = len(anchors)\n",
    "while True:\n",
    "    anchors = driver.find_elements_by_tag_name('a')\n",
    "    anchors = [a.get_attribute('href') for a in anchors]\n",
    "    anchors = [a for a in anchors if str(a).startswith(\"https://www.instagram.com/p/\")]\n",
    "    \n",
    "    if lenAnchors == len(anchors):\n",
    "        break\n",
    "    lenAnchors = len(anchors)\n",
    "    \n",
    "    driver.execute_script(\"window.scrollTo(0, document.body.scrollHeight);\")\n",
    "    time.sleep(2)\n",
    "    "
   ]
  },
  {
   "cell_type": "code",
   "execution_count": 160,
   "id": "detected-terry",
   "metadata": {},
   "outputs": [
    {
     "data": {
      "text/plain": [
       "['https://www.instagram.com/p/CLMloSmHpcj/',\n",
       " 'https://www.instagram.com/p/CKtkHxAHdCP/',\n",
       " 'https://www.instagram.com/p/CJONdfYHRWr/',\n",
       " 'https://www.instagram.com/p/CFKV3ETHSHG/']"
      ]
     },
     "execution_count": 160,
     "metadata": {},
     "output_type": "execute_result"
    }
   ],
   "source": [
    "anchors"
   ]
  },
  {
   "cell_type": "code",
   "execution_count": 161,
   "id": "hollywood-booth",
   "metadata": {},
   "outputs": [
    {
     "name": "stdout",
     "output_type": "stream",
     "text": [
      "https://scontent-hkt1-1.cdninstagram.com/v/t51.2885-15/e35/148998852_697754357605301_1051584320657542547_n.jpg?_nc_ht=scontent-hkt1-1.cdninstagram.com&_nc_cat=105&_nc_ohc=piaaTsEaQJQAX9WfFlG&tp=1&oh=47368d4a64e10f5b21538a679fb4d20d&oe=605DCEA6\n",
      "https://scontent-hkt1-1.cdninstagram.com/v/t51.2885-15/e35/144970263_251283553127349_1120000316912250258_n.jpg?_nc_ht=scontent-hkt1-1.cdninstagram.com&_nc_cat=109&_nc_ohc=CTPbDB-UQMwAX847PeZ&tp=1&oh=599b4307ccecba9e020b3188604a7a2b&oe=605CD9D5\n",
      "https://scontent-hkt1-1.cdninstagram.com/v/t51.2885-15/e35/133079332_756935511838505_3672365860051693552_n.jpg?_nc_ht=scontent-hkt1-1.cdninstagram.com&_nc_cat=105&_nc_ohc=j0mbZzheHoIAX-dDHhd&tp=1&oh=5d17960b414183e062f276cf24bf9d25&oe=605B1356\n",
      "https://scontent-hkt1-1.cdninstagram.com/v/t51.2885-15/e35/119231560_1478738012325372_3951347841514053554_n.jpg?_nc_ht=scontent-hkt1-1.cdninstagram.com&_nc_cat=100&_nc_ohc=ijPdX84ZpbIAX-HldCq&tp=1&oh=1c32082edbd9427381ab0ad69945a960&oe=605B26D9\n"
     ]
    }
   ],
   "source": [
    "images = []\n",
    "i = 0\n",
    "for a in anchors:\n",
    "#     if i == 2:\n",
    "#         break\n",
    "#     i += 1\n",
    "    driver.get(a)\n",
    "    time.sleep(4)\n",
    "    img = driver.find_elements_by_tag_name('img')\n",
    "    img = [i.get_attribute('src') for i in img]\n",
    "    print(img[1])\n",
    "    images.append(img[1])"
   ]
  },
  {
   "cell_type": "code",
   "execution_count": 162,
   "id": "stuck-webster",
   "metadata": {},
   "outputs": [],
   "source": [
    "import os\n",
    "import wget"
   ]
  },
  {
   "cell_type": "code",
   "execution_count": 163,
   "id": "important-wages",
   "metadata": {},
   "outputs": [],
   "source": [
    "path = os.getcwd()\n",
    "path = os.path.join(path, keyword)"
   ]
  },
  {
   "cell_type": "code",
   "execution_count": 164,
   "id": "curious-jacob",
   "metadata": {},
   "outputs": [
    {
     "data": {
      "text/plain": [
       "'C:\\\\Users\\\\Nguyen Huy\\\\AppData\\\\Local\\\\Programs\\\\Python\\\\Python39\\\\Scripts\\\\Python\\\\Web crawler\\\\nchinnn_20'"
      ]
     },
     "execution_count": 164,
     "metadata": {},
     "output_type": "execute_result"
    }
   ],
   "source": [
    "path"
   ]
  },
  {
   "cell_type": "code",
   "execution_count": 165,
   "id": "arctic-haiti",
   "metadata": {},
   "outputs": [],
   "source": [
    "if not os.path.exists(path):\n",
    "    os.mkdir(path)"
   ]
  },
  {
   "cell_type": "code",
   "execution_count": 166,
   "id": "wireless-riding",
   "metadata": {},
   "outputs": [
    {
     "name": "stdout",
     "output_type": "stream",
     "text": [
      "https://scontent-hkt1-1.cdninstagram.com/v/t51.2885-15/e35/148998852_697754357605301_1051584320657542547_n.jpg?_nc_ht=scontent-hkt1-1.cdninstagram.com&_nc_cat=105&_nc_ohc=piaaTsEaQJQAX9WfFlG&tp=1&oh=47368d4a64e10f5b21538a679fb4d20d&oe=605DCEA6\n",
      "100% [............................................................................] 341448 / 3414481\n",
      "https://scontent-hkt1-1.cdninstagram.com/v/t51.2885-15/e35/144970263_251283553127349_1120000316912250258_n.jpg?_nc_ht=scontent-hkt1-1.cdninstagram.com&_nc_cat=109&_nc_ohc=CTPbDB-UQMwAX847PeZ&tp=1&oh=599b4307ccecba9e020b3188604a7a2b&oe=605CD9D5\n",
      "100% [............................................................................] 127280 / 1272802\n",
      "https://scontent-hkt1-1.cdninstagram.com/v/t51.2885-15/e35/133079332_756935511838505_3672365860051693552_n.jpg?_nc_ht=scontent-hkt1-1.cdninstagram.com&_nc_cat=105&_nc_ohc=j0mbZzheHoIAX-dDHhd&tp=1&oh=5d17960b414183e062f276cf24bf9d25&oe=605B1356\n",
      "100% [............................................................................] 171603 / 1716033\n",
      "https://scontent-hkt1-1.cdninstagram.com/v/t51.2885-15/e35/119231560_1478738012325372_3951347841514053554_n.jpg?_nc_ht=scontent-hkt1-1.cdninstagram.com&_nc_cat=100&_nc_ohc=ijPdX84ZpbIAX-HldCq&tp=1&oh=1c32082edbd9427381ab0ad69945a960&oe=605B26D9\n",
      "100% [..............................................................................] 65243 / 652434\n"
     ]
    }
   ],
   "source": [
    "counter = 0\n",
    "for img in images:\n",
    "    print(img)\n",
    "    wget.download(img, os.path.join(path, f'{keyword}-{counter}.jpg'))\n",
    "    counter += 1\n",
    "    print(counter)"
   ]
  },
  {
   "cell_type": "code",
   "execution_count": null,
   "id": "acceptable-activation",
   "metadata": {},
   "outputs": [],
   "source": []
  }
 ],
 "metadata": {
  "kernelspec": {
   "display_name": "Python 3",
   "language": "python",
   "name": "python3"
  },
  "language_info": {
   "codemirror_mode": {
    "name": "ipython",
    "version": 3
   },
   "file_extension": ".py",
   "mimetype": "text/x-python",
   "name": "python",
   "nbconvert_exporter": "python",
   "pygments_lexer": "ipython3",
   "version": "3.9.1"
  }
 },
 "nbformat": 4,
 "nbformat_minor": 5
}
