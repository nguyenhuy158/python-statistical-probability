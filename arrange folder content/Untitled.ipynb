{
 "cells": [
  {
   "cell_type": "code",
   "execution_count": 1,
   "id": "western-oliver",
   "metadata": {},
   "outputs": [],
   "source": [
    "import os\n",
    "import shutil\n",
    "\n",
    "def joinFolder():\n",
    "#     current_dir = os.getcwd()\n",
    "    for file in os.listdir():\n",
    "        print(file)\n",
    "#         doc\n",
    "        if file.endswith(('.txt', '.html', '.xlm', '.doc', '.md', '.pdf')):\n",
    "            if not os.path.isdir('doc'):\n",
    "                 os.mkdir('doc')\n",
    "            shutil.copy(file,'doc')\n",
    "            print('doc')\n",
    "#         img\n",
    "        if file.endswith(('.jpg', '.img', '.png')):\n",
    "            if not os.path.isdir('img'):\n",
    "                 os.mkdir('img')\n",
    "            shutil.copy(file,'img')\n",
    "            print('img')\n",
    "#         videos\n",
    "        if file.endswith(('.mp4', '.mp3', '.mkv')):\n",
    "            if not os.path.isdir('v'):\n",
    "                 os.mkdir('v')\n",
    "            shutil.copy(file,'v')\n",
    "            print('videos')\n",
    "#         app    \n",
    "        if file.endswith(('.exe', '.dmg')):\n",
    "            if not os.path.isdir('app'):\n",
    "                 os.mkdir('app')\n",
    "            shutil.copy(file,'app')\n",
    "            print('app')\n",
    "        try:\n",
    "            os.remove(file)              \n",
    "        except:\n",
    "            pass"
   ]
  },
  {
   "cell_type": "code",
   "execution_count": 12,
   "id": "deluxe-welsh",
   "metadata": {},
   "outputs": [],
   "source": [
    "def exFolder():\n",
    "    current_dir = os.getcwd()\n",
    "    print(current_dir)\n",
    "    for file in os.listdir():\n",
    "        if os.path.isdir(file):\n",
    "            os.chdir(file)\n",
    "            print(os.getcwd())\n",
    "            for content in os.listdir():\n",
    "                shutil.move(content, current_dir)\n",
    "        os.chdir(current_dir)\n",
    "        os.rmdir(file)\n"
   ]
  },
  {
   "cell_type": "code",
   "execution_count": 14,
   "id": "norman-tender",
   "metadata": {},
   "outputs": [
    {
     "name": "stdout",
     "output_type": "stream",
     "text": [
      "D:\\OneDrive - cloudor\\Documents\\Dev\\Python\\arrange folder content\n",
      "D:\\OneDrive - cloudor\\Documents\\Dev\\Python\\arrange folder content\\.ipynb_checkpoints\n"
     ]
    },
    {
     "ename": "PermissionError",
     "evalue": "[WinError 5] Access is denied: '.ipynb_checkpoints'",
     "output_type": "error",
     "traceback": [
      "\u001b[1;31m---------------------------------------------------------------------------\u001b[0m",
      "\u001b[1;31mPermissionError\u001b[0m                           Traceback (most recent call last)",
      "\u001b[1;32m<ipython-input-14-ac90fb874fd5>\u001b[0m in \u001b[0;36m<module>\u001b[1;34m\u001b[0m\n\u001b[1;32m----> 1\u001b[1;33m \u001b[0mexFolder\u001b[0m\u001b[1;33m(\u001b[0m\u001b[1;33m)\u001b[0m\u001b[1;33m\u001b[0m\u001b[1;33m\u001b[0m\u001b[0m\n\u001b[0m",
      "\u001b[1;32m<ipython-input-12-d4748ab9c691>\u001b[0m in \u001b[0;36mexFolder\u001b[1;34m()\u001b[0m\n\u001b[0;32m      9\u001b[0m                 \u001b[0mshutil\u001b[0m\u001b[1;33m.\u001b[0m\u001b[0mmove\u001b[0m\u001b[1;33m(\u001b[0m\u001b[0mcontent\u001b[0m\u001b[1;33m,\u001b[0m \u001b[0mcurrent_dir\u001b[0m\u001b[1;33m)\u001b[0m\u001b[1;33m\u001b[0m\u001b[1;33m\u001b[0m\u001b[0m\n\u001b[0;32m     10\u001b[0m         \u001b[0mos\u001b[0m\u001b[1;33m.\u001b[0m\u001b[0mchdir\u001b[0m\u001b[1;33m(\u001b[0m\u001b[0mcurrent_dir\u001b[0m\u001b[1;33m)\u001b[0m\u001b[1;33m\u001b[0m\u001b[1;33m\u001b[0m\u001b[0m\n\u001b[1;32m---> 11\u001b[1;33m         \u001b[0mos\u001b[0m\u001b[1;33m.\u001b[0m\u001b[0mremove\u001b[0m\u001b[1;33m(\u001b[0m\u001b[0mfile\u001b[0m\u001b[1;33m)\u001b[0m\u001b[1;33m\u001b[0m\u001b[1;33m\u001b[0m\u001b[0m\n\u001b[0m",
      "\u001b[1;31mPermissionError\u001b[0m: [WinError 5] Access is denied: '.ipynb_checkpoints'"
     ]
    }
   ],
   "source": [
    "exFolder()"
   ]
  },
  {
   "cell_type": "code",
   "execution_count": 13,
   "id": "rocky-failure",
   "metadata": {},
   "outputs": [
    {
     "name": "stdout",
     "output_type": "stream",
     "text": [
      ".ipynb_checkpoints\n",
      "index.py\n",
      "lib for file-checkpoint.md\n",
      "doc\n",
      "lib for file.md\n",
      "doc\n",
      "New Text Document (2).txt\n",
      "doc\n",
      "New Text Document.txt\n",
      "doc\n",
      "Screenshot (16).png\n",
      "img\n",
      "Screenshot (17).png\n",
      "img\n",
      "Screenshot (26).png\n",
      "img\n",
      "Screenshot (27).png\n",
      "img\n",
      "Untitled.ipynb\n"
     ]
    }
   ],
   "source": [
    "joinFolder()"
   ]
  },
  {
   "cell_type": "markdown",
   "id": "employed-internet",
   "metadata": {},
   "source": [
    "os.remove – Deletes a file.\n",
    "\n",
    "os.rmdir – Deletes a folder.\n",
    "\n",
    "shutil.rmtree – Deletes a directory and all its contents."
   ]
  },
  {
   "cell_type": "code",
   "execution_count": 7,
   "id": "japanese-payday",
   "metadata": {},
   "outputs": [
    {
     "data": {
      "text/plain": [
       "'D:\\\\OneDrive - cloudor\\\\Documents\\\\Dev\\\\Python\\\\arrange folder content'"
      ]
     },
     "execution_count": 7,
     "metadata": {},
     "output_type": "execute_result"
    }
   ],
   "source": [
    "os.getcwd()"
   ]
  },
  {
   "cell_type": "code",
   "execution_count": null,
   "id": "pressing-israel",
   "metadata": {},
   "outputs": [],
   "source": [
    "current_dir = os.getcwd()"
   ]
  },
  {
   "cell_type": "code",
   "execution_count": null,
   "id": "incorporated-consumer",
   "metadata": {},
   "outputs": [],
   "source": [
    "print(current_dir)"
   ]
  },
  {
   "cell_type": "code",
   "execution_count": null,
   "id": "dirty-jordan",
   "metadata": {},
   "outputs": [],
   "source": [
    "os.listdir()"
   ]
  },
  {
   "cell_type": "code",
   "execution_count": null,
   "id": "basic-nursery",
   "metadata": {},
   "outputs": [],
   "source": [
    "for file in os.listdir():\n",
    "    if file.endswith('.txt') or file.endswith('.md'):\n",
    "        print(file)\n",
    "        try:\n",
    "            os.mkdir('Document')\n",
    "        except:\n",
    "            pass\n",
    "        shutil.copy(file, current_dir+'\\Document')"
   ]
  },
  {
   "cell_type": "code",
   "execution_count": null,
   "id": "elementary-animation",
   "metadata": {},
   "outputs": [],
   "source": []
  }
 ],
 "metadata": {
  "kernelspec": {
   "display_name": "Python 3",
   "language": "python",
   "name": "python3"
  },
  "language_info": {
   "codemirror_mode": {
    "name": "ipython",
    "version": 3
   },
   "file_extension": ".py",
   "mimetype": "text/x-python",
   "name": "python",
   "nbconvert_exporter": "python",
   "pygments_lexer": "ipython3",
   "version": "3.9.1"
  }
 },
 "nbformat": 4,
 "nbformat_minor": 5
}
